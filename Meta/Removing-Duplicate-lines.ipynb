{
 "cells": [
  {
   "cell_type": "markdown",
   "metadata": {},
   "source": [
    "**Remove Duplicate Lines**"
   ]
  },
  {
   "cell_type": "code",
   "execution_count": 1,
   "metadata": {},
   "outputs": [
    {
     "name": "stdout",
     "output_type": "stream",
     "text": [
      "99884123\r\n",
      "97993431\r\n",
      "81234000\r\n",
      "02041467\r\n",
      "77985508\r\n",
      "97993431\r\n",
      "77985509\r\n",
      "77985509\r\n"
     ]
    }
   ],
   "source": [
    "cat /home/mana/Work/sample.txt"
   ]
  },
  {
   "cell_type": "code",
   "execution_count": 2,
   "metadata": {},
   "outputs": [
    {
     "name": "stdout",
     "output_type": "stream",
     "text": [
      "99884123\n",
      "97993431\n",
      "81234000\n",
      "02041467\n",
      "77985508\n",
      "77985509\n"
     ]
    }
   ],
   "source": [
    "%%bash\n",
    "\n",
    "awk '!x[$0]++' /home/mana/Work/sample.txt"
   ]
  },
  {
   "cell_type": "code",
   "execution_count": 3,
   "metadata": {},
   "outputs": [
    {
     "name": "stdout",
     "output_type": "stream",
     "text": [
      "02041467\n",
      "77985508\n",
      "77985509\n",
      "81234000\n",
      "97993431\n",
      "99884123\n"
     ]
    }
   ],
   "source": [
    "%%bash\n",
    "\n",
    "sort /home/mana/Work/sample.txt | uniq "
   ]
  },
  {
   "cell_type": "code",
   "execution_count": 4,
   "metadata": {},
   "outputs": [
    {
     "name": "stdout",
     "output_type": "stream",
     "text": [
      "81234000\n",
      "02041467\n",
      "99884123\n",
      "97993431\n",
      "77985508\n",
      "77985509\n"
     ]
    }
   ],
   "source": [
    "%%python3\n",
    "\n",
    "from pathlib import Path\n",
    "\n",
    "file_read = Path('/home/mana/Work/sample.txt').read_text()\n",
    "convert_list = file_read.splitlines()\n",
    "result = set(convert_list)\n",
    "print(*result, sep = '\\n')"
   ]
  },
  {
   "cell_type": "code",
   "execution_count": null,
   "metadata": {},
   "outputs": [],
   "source": []
  }
 ],
 "metadata": {
  "kernelspec": {
   "display_name": "Python 3",
   "language": "python",
   "name": "python3"
  },
  "language_info": {
   "codemirror_mode": {
    "name": "ipython",
    "version": 3
   },
   "file_extension": ".py",
   "mimetype": "text/x-python",
   "name": "python",
   "nbconvert_exporter": "python",
   "pygments_lexer": "ipython3",
   "version": "3.8.10"
  }
 },
 "nbformat": 4,
 "nbformat_minor": 4
}
