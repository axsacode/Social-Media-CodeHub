{
 "cells": [
  {
   "cell_type": "markdown",
   "metadata": {},
   "source": [
    "<h3 style=\"text-align:center;font-size:20px;font-weight:bolder\">Check If File Not Exists</h3>"
   ]
  },
  {
   "cell_type": "markdown",
   "metadata": {},
   "source": [
    "**Bash**"
   ]
  },
  {
   "cell_type": "code",
   "execution_count": 3,
   "metadata": {},
   "outputs": [
    {
     "name": "stdout",
     "output_type": "stream",
     "text": [
      "/home/mana/fruit.txt is exists\n"
     ]
    }
   ],
   "source": [
    "%%bash\n",
    "\n",
    "FILE=/home/mana/fruit.txt\n",
    "if [ -f $FILE ]\n",
    "then\n",
    "echo \"$FILE is exists\"\n",
    "else\n",
    "echo \"$FILE is exists\"\n",
    "fi"
   ]
  },
  {
   "cell_type": "markdown",
   "metadata": {},
   "source": [
    "**Bash One Line**"
   ]
  },
  {
   "cell_type": "code",
   "execution_count": 4,
   "metadata": {},
   "outputs": [
    {
     "name": "stdout",
     "output_type": "stream",
     "text": [
      "/home/mana/fruit.txt is exists\n"
     ]
    }
   ],
   "source": [
    "%%bash\n",
    "\n",
    "FILE=/home/mana/fruit.txt\n",
    "[ -f $FILE ] && echo \"$FILE is exists\" || echo \"$FILE is exists\""
   ]
  },
  {
   "cell_type": "markdown",
   "metadata": {},
   "source": [
    "**Python**"
   ]
  },
  {
   "cell_type": "markdown",
   "metadata": {},
   "source": [
    "**Using os.path**"
   ]
  },
  {
   "cell_type": "code",
   "execution_count": 9,
   "metadata": {},
   "outputs": [
    {
     "name": "stdout",
     "output_type": "stream",
     "text": [
      "/home/mana/fruit.txt is exists.\n"
     ]
    }
   ],
   "source": [
    "import os.path\n",
    "\n",
    "file = '/home/mana/fruit.txt'\n",
    "if os.path.exists(file):\n",
    "    print(file, 'is exists.')\n",
    "else:\n",
    "    print(file, 'is not exists.')"
   ]
  },
  {
   "cell_type": "markdown",
   "metadata": {},
   "source": [
    "**Using pathlib**"
   ]
  },
  {
   "cell_type": "code",
   "execution_count": 12,
   "metadata": {},
   "outputs": [
    {
     "name": "stdout",
     "output_type": "stream",
     "text": [
      "/home/mana/fruit.txt is exists.\n"
     ]
    }
   ],
   "source": [
    "from pathlib import Path\n",
    "\n",
    "file = '/home/mana/fruit.txt'\n",
    "if Path(file).exists():\n",
    "     print(file, 'is exists.')\n",
    "else:\n",
    "    print(file, 'is not exists.')"
   ]
  }
 ],
 "metadata": {
  "kernelspec": {
   "display_name": "Python 3",
   "language": "python",
   "name": "python3"
  },
  "language_info": {
   "codemirror_mode": {
    "name": "ipython",
    "version": 3
   },
   "file_extension": ".py",
   "mimetype": "text/x-python",
   "name": "python",
   "nbconvert_exporter": "python",
   "pygments_lexer": "ipython3",
   "version": "3.8.10"
  }
 },
 "nbformat": 4,
 "nbformat_minor": 4
}
