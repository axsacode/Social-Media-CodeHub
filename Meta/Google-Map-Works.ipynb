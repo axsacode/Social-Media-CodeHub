{
 "cells": [
  {
   "cell_type": "markdown",
   "metadata": {},
   "source": [
    "**How google map works?**    \n",
    "\n",
    "**What is Latitude and Longitude?**     \n",
    "Latitude and Longitude are the units that represent the coordinates at geographic\n",
    "coordinate system.    \n",
    "Latitudes and longitudes are horizontal and vertical lines respectively.     \n",
    "Latitudes are parellel to equator and equator itself is also a latitude i.e. 0° Latitude.     \n",
    "Longitude intersects with equator at 90°\n"
   ]
  },
  {
   "cell_type": "markdown",
   "metadata": {},
   "source": [
    "**Bisect Algorithm**     \n",
    "The bisect module provides support for maintaining lists in sorted order without having \n",
    "to sort the list after each insertion.      \n",
    "For long lists of items with expensive comparison operations, this can be an improvement over the more common approach.     \n",
    "The module is called bisect because it uses a basic bisection algorithm to do its work.  \n",
    "This algorithm is sometimes called binary search, although there are many binary search algorithms.      \n",
    " The bisect module implements an algorithm for inserting elements into a list while maintaining the list in sorted order.      \n",
    " It is usually faster than sorting the sequence then performing a binary search on the result.     \n",
    " To create a list in sorted order, you must insert each item into its proper location using either insort() or insort_right()."
   ]
  },
  {
   "cell_type": "code",
   "execution_count": 1,
   "metadata": {},
   "outputs": [
    {
     "data": {
      "text/plain": [
       "'Latitude 37.0902, Longitude 95.7129 is USA'"
      ]
     },
     "execution_count": 1,
     "metadata": {},
     "output_type": "execute_result"
    }
   ],
   "source": [
    "import bisect \n",
    "\n",
    "lati_long = [[], [20.5937,78.9629], [37.0902,95.7129], \n",
    "             [52.1326,5.2913], [55.3781, 3.4360]]\n",
    "country = ['', 'India', 'USA', 'Netherlands', 'UK']\n",
    "\n",
    "def map(arg):\n",
    "    idx = bisect.bisect(lati_long, arg) -1\n",
    "    return f'Latitude {arg[0]}, Longitude {arg[1]} is {country[idx]}'\n",
    "\n",
    "map([37.0902, 95.7129])\n"
   ]
  }
 ],
 "metadata": {
  "kernelspec": {
   "display_name": "Python 3",
   "language": "python",
   "name": "python3"
  },
  "language_info": {
   "codemirror_mode": {
    "name": "ipython",
    "version": 3
   },
   "file_extension": ".py",
   "mimetype": "text/x-python",
   "name": "python",
   "nbconvert_exporter": "python",
   "pygments_lexer": "ipython3",
   "version": "3.8.10"
  }
 },
 "nbformat": 4,
 "nbformat_minor": 4
}
